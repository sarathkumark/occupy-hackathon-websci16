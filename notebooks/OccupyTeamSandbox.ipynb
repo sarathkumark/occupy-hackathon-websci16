{
 "cells": [
  {
   "cell_type": "code",
   "execution_count": 3,
   "metadata": {
    "collapsed": false
   },
   "outputs": [],
   "source": [
    "import de.l3s.archivespark.ArchiveSpark\n",
    "import de.l3s.archivespark.enrich.functions._\n",
    "import de.l3s.archivespark.nativescala.implicits._\n",
    "import de.l3s.archivespark.implicits._"
   ]
  },
  {
   "cell_type": "code",
   "execution_count": 6,
   "metadata": {
    "collapsed": true
   },
   "outputs": [],
   "source": [
    "val collection = \"ArchiveIt-Collection-2950\""
   ]
  },
  {
   "cell_type": "code",
   "execution_count": 7,
   "metadata": {
    "collapsed": true
   },
   "outputs": [],
   "source": [
    "val cdxPath = s\"/data/hackathon/$collection/cdx/*.cdx.gz\"\n",
    "val warcPath = s\"/data/hackathon/$collection/warc\""
   ]
  },
  {
   "cell_type": "code",
   "execution_count": 8,
   "metadata": {
    "collapsed": true
   },
   "outputs": [],
   "source": [
    "val rdd = ArchiveSpark.hdfs(cdxPath, warcPath)(sc)"
   ]
  },
  {
   "cell_type": "code",
   "execution_count": 10,
   "metadata": {
    "collapsed": false
   },
   "outputs": [
    {
     "data": {
      "text/plain": [
       "{\n",
       "  \"record\":{\n",
       "    \"redirectUrl\":\"-\",\n",
       "    \"timestamp\":\"20111222043804\",\n",
       "    \"digest\":\"YVOEIYJ45I7QNNFBQTCPKIQAQJIE4B46\",\n",
       "    \"originalUrl\":\"http://english.cntv.cn/program/newsupdate/20110504/109544.shtml\",\n",
       "    \"surtUrl\":\"cn,cntv,english)/program/newsupdate/20110504/109544.shtml\",\n",
       "    \"mime\":\"text/html\",\n",
       "    \"meta\":\"-\",\n",
       "    \"status\":200\n",
       "  }\n",
       "}"
      ]
     },
     "execution_count": 10,
     "metadata": {},
     "output_type": "execute_result"
    }
   ],
   "source": [
    "rdd.filter(r => r.status == 200 && r.mime == \"text/html\").take(1).head.toJsonString"
   ]
  },
  {
   "cell_type": "code",
   "execution_count": 11,
   "metadata": {
    "collapsed": true
   },
   "outputs": [],
   "source": [
    "val onlineHtml = rdd.filter(r => r.status == 200 && r.mime == \"text/html\")"
   ]
  },
  {
   "cell_type": "code",
   "execution_count": 71,
   "metadata": {
    "collapsed": true
   },
   "outputs": [],
   "source": [
    "val sample = onlineHtml.sample(false, .001, 83173).cache"
   ]
  },
  {
   "cell_type": "code",
   "execution_count": 28,
   "metadata": {
    "collapsed": false
   },
   "outputs": [
    {
     "data": {
      "text/plain": [
       "Array((com,youtube)/watch?v=mod2jngttoa,3), (com,twitter)/occupylongbeach,3), (com,facebook)/family/xiao/ow/fk,3), (com,twitter)/occupy_paradise,3), (org,occupywallst)/forum/knowledge-of-the-cosmos,3), (org,occupywallst)/article/deliver-your-message-1,3), (org,occupywallst)/article/hate-men-will-pass-and-dictators-die-inspiring-wor,3), (org,occupywallst)/forum/come-over-to-lobby-democracy-and-stay-for-awhile-t,3), (com,twitter)/avunitanon,3), (com,twitter)/occupy_dc,3))"
      ]
     },
     "execution_count": 28,
     "metadata": {},
     "output_type": "execute_result"
    }
   ],
   "source": [
    "sample.map(r => (r.surtUrl, 1)).reduceByKey(_ + _).sortBy{case (url, count) => -count}.take(10)"
   ]
  },
  {
   "cell_type": "code",
   "execution_count": 29,
   "metadata": {
    "collapsed": false
   },
   "outputs": [
    {
     "name": "stdout",
     "output_type": "stream",
     "text": [
      "\r",
      "                                                                                \r",
      "{\n",
      "  \"record\":{\n",
      "    \"redirectUrl\":\"-\",\n",
      "    \"timestamp\":\"20120131023246\",\n",
      "    \"digest\":\"RDCZJAX4KT4FKFLVATTTNA5K7QT6OYTF\",\n",
      "    \"originalUrl\":\"http://occupywallst.org/forum/come-over-to-lobby-democracy-and-stay-for-awhile-t/\",\n",
      "    \"surtUrl\":\"org,occupywallst)/forum/come-over-to-lobby-democracy-and-stay-for-awhile-t\",\n",
      "    \"mime\":\"text/html\",\n",
      "    \"meta\":\"-\",\n",
      "    \"status\":200\n",
      "  }\n",
      "}\n",
      "{\n",
      "  \"record\":{\n",
      "    \"redirectUrl\":\"-\",\n",
      "    \"timestamp\":\"20120210023849\",\n",
      "    \"digest\":\"XE73PZTGIUVMM45T64MEUHTGGL6W7HN5\",\n",
      "    \"originalUrl\":\"http://occupywallst.org/forum/come-over-to-lobby-democracy-and-stay-for-awhile-t/\",\n",
      "    \"surtUrl\":\"org,occupywallst)/forum/come-over-to-lobby-democracy-and-stay-for-awhile-t\",\n",
      "    \"mime\":\"text/html\",\n",
      "    \"meta\":\"-\",\n",
      "    \"status\":200\n",
      "  }\n",
      "}\n",
      "{\n",
      "  \"record\":{\n",
      "    \"redirectUrl\":\"-\",\n",
      "    \"timestamp\":\"20120215041157\",\n",
      "    \"digest\":\"M4HRHZZGMMA3VF4HCNTLGT5VYZU2GROT\",\n",
      "    \"originalUrl\":\"http://occupywallst.org/forum/come-over-to-lobby-democracy-and-stay-for-awhile-t/\",\n",
      "    \"surtUrl\":\"org,occupywallst)/forum/come-over-to-lobby-democracy-and-stay-for-awhile-t\",\n",
      "    \"mime\":\"text/html\",\n",
      "    \"meta\":\"-\",\n",
      "    \"status\":200\n",
      "  }\n",
      "}\n"
     ]
    }
   ],
   "source": [
    "val url = \"org,occupywallst)/forum/come-over-to-lobby-democracy-and-stay-for-awhile-t\"\n",
    "sample.filter(r => r.surtUrl == url).toJsonStrings.collect.foreach(println)"
   ]
  },
  {
   "cell_type": "code",
   "execution_count": 30,
   "metadata": {
    "collapsed": true
   },
   "outputs": [],
   "source": [
    "val latest = sample.map(r => (r.surtUrl, r)).reduceByKey((a, b) => Seq(a, b).maxBy(r => r.originalUrl)).map{case (url, r) => r}.cache"
   ]
  },
  {
   "cell_type": "code",
   "execution_count": 31,
   "metadata": {
    "collapsed": true
   },
   "outputs": [],
   "source": [
    "val payload = latest.enrich(Payload)"
   ]
  },
  {
   "cell_type": "code",
   "execution_count": 32,
   "metadata": {
    "collapsed": false
   },
   "outputs": [
    {
     "name": "stdout",
     "output_type": "stream",
     "text": [
      "\r",
      "                                                                                \r",
      "{\n",
      "  \"record\":{\n",
      "    \"redirectUrl\":\"-\",\n",
      "    \"timestamp\":\"20111217070544\",\n",
      "    \"digest\":\"SRHAQ26XQRBWJBOBCJJXFSO4YCIAOT5F\",\n",
      "    \"originalUrl\":\"http://twitter.com/intent/session?original_referer=http%3A%2F%2Fpeopleslibrary.wordpress.com%2F2011%2F10%2F08%2Fscanning-books%2F%3Fshare%3Dtwitter&related=wordpressdotcom&return_to=%2Fintent%2Ftweet%3Fvia%3Dwordpressdotcom%26related%3Dwordpressdotcom%26text%3DScanning%2BBooks%26url%3Dhttp%253A%252F%252Fwp.me%252Fp1TGQI-4R&text=Scanning+Books&url=http%3A%2F%2Fwp.me%2Fp1TGQI-4R&via=wordpressdotcom\",\n",
      "    \"surtUrl\":\"com,twitter)/intent/session?original_referer=http://peopleslibrary.wordpress.com/2011/10/08/scanning-books/?share=twitter&related=wordpressdotcom&related=wordpressdotcom&return_to=/intent/tweet?via=wordpressdotcom&text=scanning+books&text=scanning+books&url=http://wp.me/p1tgqi-4r&url=http://wp.me/p1tgqi-4r&via=wordpressdotcom\",\n",
      "    \"mime\":\"text/html\",\n",
      "    \"meta\":\"-\",\n",
      "    \"status\":200\n",
      "  },\n",
      "  \"recordHeader\":{\n",
      "    \"WARC-Target-URI\":\"http://twitter.com/intent/session?original_referer=http%3A%2F%2Fpeopleslibrary.wordpress.com%2F2011%2F10%2F08%2Fscanning-books%2F%3Fshare%3Dtwitter&related=wordpressdotcom&return_to=%2Fintent%2Ftweet%3Fvia%3Dwordpressdotcom%26related%3Dwordpressdotcom%26text%3DScanning%2BBooks%26url%3Dhttp%253A%252F%252Fwp.me%252Fp1TGQI-4R&text=Scanning+Books&url=http%3A%2F%2Fwp.me%2Fp1TGQI-4R&via=wordpressdotcom\",\n",
      "    \"WARC-Date\":\"2011-12-17T07:05:44Z\",\n",
      "    \"WARC-IP-Address\":\"199.59.149.198\",\n",
      "    \"WARC-Type\":\"response\",\n",
      "    \"Content-Length\":\"5766\",\n",
      "    \"WARC-Payload-Digest\":\"sha1:SRHAQ26XQRBWJBOBCJJXFSO4YCIAOT5F\",\n",
      "    \"Content-Type\":\"application/http; msgtype=response\",\n",
      "    \"absolute-offset\":\"0\",\n",
      "    \"WARC-Record-ID\":\"<urn:uuid:66db4aea-e9fc-4f05-8c22-37c774f89954>\",\n",
      "    \"reader-identifier\":\"ARCHIVEIT-2950-WEEKLY-MMMYDA-20111217062147-00005-crawling211.us.archive.org-6680.warc.gz\"\n",
      "  },\n",
      "  \"httpHeader\":{\n",
      "    \"Vary\":\"Accept-Encoding\",\n",
      "    \"Last-Modified\":\"Sat, 17 Dec 2011 07:05:44 GMT\",\n",
      "    \"X-Action-Name\":\"show\",\n",
      "    \"Server\":\"tfe\",\n",
      "    \"X-Runtime\":\"0.01448\",\n",
      "    \"X-Controller-Class\":\"Tfw::SessionsController\",\n",
      "    \"X-Frame-Options\":\"SAMEORIGIN\",\n",
      "    \"X-XSS-Protection\":\"1; mode=block\",\n",
      "    \"Expires\":\"Tue, 31 Mar 1981 05:00:00 GMT\",\n",
      "    \"Connection\":\"Keep-Alive\",\n",
      "    \"Content-Length\":\"4626\",\n",
      "    \"X-Revision\":\"DEV\",\n",
      "    \"Cache-Control\":\"no-cache, no-store, must-revalidate, pre-check=0, post-check=0\",\n",
      "    \"Content-Type\":\"text/html; charset=utf-8\",\n",
      "    \"Pragma\":\"no-cache\",\n",
      "    \"Date\":\"Sat, 17 Dec 2011 07:05:44 GMT\",\n",
      "    \"X-MID\":\"b94e51ed2e7560ba60e8e2baefc27aa5dee22e35\",\n",
      "    \"Set-Cookie\":\"_twitter_sess=BAh7CzoMY3NyZl9pZCIlMTFlMjAyNzg0ZTc0NWE4MjEyYjViZjFjNDY3ZmEz%250ANTE6FWluX25ld191c2VyX2Zsb3cwOg5yZXR1cm5fdG8iOWh0dHA6Ly90d2l0%250AdGVyLmNvbS9vY2N1cHlkYW1lc3RyP190d2l0dGVyX25vc2NyaXB0PTE6D2Ny%250AZWF0ZWRfYXRsKwipVTtKNAEiCmZsYXNoSUM6J0FjdGlvbkNvbnRyb2xsZXI6%250AOkZsYXNoOjpGbGFzaEhhc2h7AAY6CkB1c2VkewA6B2lkIiUwMjI1YzI2ZDA2%250AYzM3MDFkMGRjZTllZDY3NjAzMzY1OA%253D%253D--b57d5ab2c95dfce95e6b86e932a952d172b0e767; domain=.twitter.com; path=/; HttpOnly\",\n",
      "    \"ETag\":\"\\\"64b31a03b692366dd4b3efd0c9f60d35\\\"\",\n",
      "    \"X-Transaction\":\"3c3b6cda5ed3fd61\",\n",
      "    \"Status\":\"200 OK\"\n",
      "  },\n",
      "  \"payload\":\"bytes(length: 4626)\"\n",
      "}\n"
     ]
    }
   ],
   "source": [
    "println(payload.take(1).head.toJsonString)"
   ]
  },
  {
   "cell_type": "code",
   "execution_count": 40,
   "metadata": {
    "collapsed": false
   },
   "outputs": [
    {
     "data": {
      "text/plain": [
       "Name: Compile Error\n",
       "Message: <console>:47: error: value WARC is not a member of Array[Byte]\n",
       "              payload.mapEnrich(Payload, \"WARC-IP-Address\") {p => p.WARC-IP-Address}.mapValues[String](\"recordHeader.WARC-IP-Address\").take(1).head\n",
       "                                                                    ^\n",
       "StackTrace: "
      ]
     },
     "execution_count": 40,
     "metadata": {},
     "output_type": "execute_result"
    }
   ],
   "source": [
    "payload.mapEnrich(Payload, \"WARC-IP-Address\") {p => p.WARC-IP-Address}.mapValues[String](\"recordHeader.WARC-IP-Address\").take(1).head"
   ]
  },
  {
   "cell_type": "code",
   "execution_count": 75,
   "metadata": {
    "collapsed": false
   },
   "outputs": [],
   "source": [
    "val payloadWithIp = sample.mapEnrich[Map[String, String], String](Payload, \"recordHeader\", \"ip\") {header => header(\"WARC-IP-Address\")}"
   ]
  },
  {
   "cell_type": "code",
   "execution_count": 73,
   "metadata": {
    "collapsed": false
   },
   "outputs": [
    {
     "data": {
      "text/plain": [
       "(200,http://blog.alexanderhiggins.com/2010/06/28/ixtoc-oil-spill-undeground-blowout-caused-oil-leak-cracks-seafloor/?replytocom=16455,199.27.134.227)"
      ]
     },
     "execution_count": 73,
     "metadata": {},
     "output_type": "execute_result"
    }
   ],
   "source": [
    "payloadWithIp.map(r => (r.status, r.originalUrl, r.get[String](\"recordHeader.ip\").get)).take(2).head"
   ]
  },
  {
   "cell_type": "code",
   "execution_count": 79,
   "metadata": {
    "collapsed": true
   },
   "outputs": [],
   "source": [
    "val TitleText = HtmlText.of(Html.first(\"title\"))"
   ]
  },
  {
   "cell_type": "code",
   "execution_count": 80,
   "metadata": {
    "collapsed": false
   },
   "outputs": [],
   "source": [
    "val payloadWithIpAndTitle = payloadWithIp.enrich(TitleText).filterExists(TitleText)"
   ]
  },
  {
   "cell_type": "code",
   "execution_count": 89,
   "metadata": {
    "collapsed": false
   },
   "outputs": [
    {
     "name": "stdout",
     "output_type": "stream",
     "text": [
      "Underground Blowout During IXTOC Caused Oil to Leak From Cracks In Seafloor\n",
      "Breaking: Second Nuclear Reactor In Japan Explodes\n",
      "SMOKING GUN: PREPARATION FOR WAR ON THE PEOPLE\n",
      "Dylan Ratigan's Epic Rant on the International Banking Cartel Thieves and Political Corruption\n",
      "Russell Simmons Joins #OccupyWallStreet Saying He Will Bring Hundreds Of Thousands\n",
      "Fox Journalists Hit With Batons, Maced By NYPD At #OccupyWallStreet Protests\n",
      "US Army Preparing To Crush #OccupyWallStreet\n",
      "The Alyona Show: In case you missed it ? full show 8/12/11\n",
      "32 Pictures Of Police Brutality From Occupy Wall Street Protests\n",
      "Watch Live: #OccupyChicago Arrests Now Under Way On Livestream #ows #OccupyWallStreet\n"
     ]
    }
   ],
   "source": [
    "payloadWithIpAndTitle.mapValues(TitleText).take(10).foreach(println)"
   ]
  },
  {
   "cell_type": "code",
   "execution_count": 1,
   "metadata": {
    "collapsed": false
   },
   "outputs": [
    {
     "data": {
      "text/plain": [
       "(200,http://blog.alexanderhiggins.com/2010/06/28/ixtoc-oil-spill-undeground-blowout-caused-oil-leak-cracks-seafloor/?replytocom=16455,199.27.134.227)"
      ]
     },
     "execution_count": 1,
     "metadata": {},
     "output_type": "execute_result"
    }
   ],
   "source": [
    "payloadWithIpAndTitle.map(r => (r.status, r.originalUrl, r.get[String](\"recordHeader.ip\").get)).take(2).head"
   ]
  },
  {
   "cell_type": "code",
   "execution_count": 2,
   "metadata": {
    "collapsed": false
   },
   "outputs": [
    {
     "data": {
      "text/plain": [
       "{\n",
       "  \"record\":{\n",
       "    \"redirectUrl\":\"-\",\n",
       "    \"timestamp\":\"20111222211210\",\n",
       "    \"digest\":\"JB6CU5J5ADHAUKM5KFTXL4UXEHZHGNOU\",\n",
       "    \"originalUrl\":\"http://blog.alexanderhiggins.com/2010/06/28/ixtoc-oil-spill-undeground-blowout-caused-oil-leak-cracks-seafloor/?replytocom=16455\",\n",
       "    \"surtUrl\":\"com,alexanderhiggins,blog)/2010/06/28/ixtoc-oil-spill-undeground-blowout-caused-oil-leak-cracks-seafloor?replytocom=16455\",\n",
       "    \"mime\":\"text/html\",\n",
       "    \"meta\":\"-\",\n",
       "    \"status\":200\n",
       "  },\n",
       "  \"recordHeader\":{\n",
       "    \"ip\":\"199.27.134.227\"\n",
       "  },\n",
       "  \"payload\":{\n",
       "    \"string\":{\n",
       "      \"html\":{\n",
       "        \"title\":{\n",
       "          \"text\":\"Underground Blowout During IXTOC Caused Oil to Leak From Cracks In Seafloor\"\n",
       "        }\n",
       "      }\n",
       "    }\n",
       "  }\n",
       "}"
      ]
     },
     "execution_count": 2,
     "metadata": {},
     "output_type": "execute_result"
    }
   ],
   "source": [
    "payloadWithIpAndTitle.take(1).head.toJsonString"
   ]
  },
  {
   "cell_type": "code",
   "execution_count": 8,
   "metadata": {
    "collapsed": false
   },
   "outputs": [],
   "source": [
    "val output = payloadWithIpAndTitle.map(r => (\"\\\"\" + r.timestamp + \"\\\"\", \"\\\"\" + r.status + \"\\\"\", \"\\\"\" + r.originalUrl + \"\\\"\", \"\\\"\" + r.get[String](\"recordHeader.ip\").get + \"\\\"\", \"\\\"\" + r.get[String](\"payload.string.html.title.text\").get + \"\\\"\"))"
   ]
  },
  {
   "cell_type": "code",
   "execution_count": 9,
   "metadata": {
    "collapsed": false
   },
   "outputs": [],
   "source": [
    "import org.apache.hadoop.io.compress.GzipCodec\n",
    "output.saveAsTextFile(\"sandbox.gz\", classOf[GzipCodec])"
   ]
  },
  {
   "cell_type": "code",
   "execution_count": null,
   "metadata": {
    "collapsed": true
   },
   "outputs": [],
   "source": []
  }
 ],
 "metadata": {
  "kernelspec": {
   "display_name": "ArchiveSpark (Spark 1.6.1, Toree)",
   "language": "",
   "name": "toree"
  },
  "language_info": {
   "name": "scala"
  }
 },
 "nbformat": 4,
 "nbformat_minor": 0
}
